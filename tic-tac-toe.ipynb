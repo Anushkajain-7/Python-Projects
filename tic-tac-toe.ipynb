{
 "cells": [
  {
   "cell_type": "code",
   "execution_count": 1,
   "metadata": {},
   "outputs": [
    {
     "name": "stdout",
     "output_type": "stream",
     "text": [
      "Collecting tk\n",
      "  Downloading tk-0.1.0-py3-none-any.whl.metadata (693 bytes)\n",
      "Downloading tk-0.1.0-py3-none-any.whl (3.9 kB)\n",
      "Installing collected packages: tk\n",
      "Successfully installed tk-0.1.0\n",
      "Note: you may need to restart the kernel to use updated packages.\n"
     ]
    }
   ],
   "source": [
    "pip install tk"
   ]
  },
  {
   "cell_type": "code",
   "execution_count": 1,
   "metadata": {},
   "outputs": [],
   "source": [
    "import tkinter as tk\n",
    "from tkinter import *\n",
    "from tkinter import messagebox\n",
    "\n",
    "class TicTacToe:\n",
    "    def __init__(self, root):\n",
    "        self.root = root\n",
    "        self.root.title(\"Tic Tac Toe\")\n",
    "        self.player = 'X'\n",
    "        self.buttons = [[None for _ in range(3)] for _ in range(3)]\n",
    "        self.create_buttons()\n",
    "        self.moves_made = 0\n",
    "\n",
    "    def create_buttons(self):\n",
    "        for i in range(3):\n",
    "            for j in range(3):\n",
    "                self.buttons[i][j] = tk.Button(self.root, text='', font='Arial 20 bold', width=5, height=2, \n",
    "                                               command=lambda row=i, col=j: self.on_button_click(row, col))\n",
    "                self.buttons[i][j].grid(row=i, column=j)\n",
    "\n",
    "    def on_button_click(self, row, col):\n",
    "        if self.buttons[row][col]['text'] == '' and not self.check_winner():\n",
    "            self.buttons[row][col]['text'] = self.player\n",
    "            self.moves_made += 1\n",
    "            if self.check_winner():\n",
    "                messagebox.showinfo(\"Tic Tac Toe\", f\"Player {self.player} wins!\")\n",
    "                self.reset_board()\n",
    "            elif self.moves_made == 9:\n",
    "                messagebox.showinfo(\"Tic Tac Toe\", \"It's a tie!\")\n",
    "                self.reset_board()\n",
    "            else:\n",
    "                self.player = 'O' if self.player == 'X' else 'X'\n",
    "\n",
    "    def check_winner(self):\n",
    "        for i in range(3):\n",
    "            if self.buttons[i][0]['text'] == self.buttons[i][1]['text'] == self.buttons[i][2]['text'] != '':\n",
    "                return True\n",
    "            if self.buttons[0][i]['text'] == self.buttons[1][i]['text'] == self.buttons[2][i]['text'] != '':\n",
    "                return True\n",
    "        if self.buttons[0][0]['text'] == self.buttons[1][1]['text'] == self.buttons[2][2]['text'] != '':\n",
    "            return True\n",
    "        if self.buttons[0][2]['text'] == self.buttons[1][1]['text'] == self.buttons[2][0]['text'] != '':\n",
    "            return True\n",
    "        return False\n",
    "\n",
    "    def reset_board(self):\n",
    "        for i in range(3):\n",
    "            for j in range(3):\n",
    "                self.buttons[i][j]['text'] = ''\n",
    "        self.player = 'X'\n",
    "        self.moves_made = 0\n",
    "\n",
    "if __name__ == \"__main__\":\n",
    "    root = tk.Tk()\n",
    "    game = TicTacToe(root)\n",
    "    root.mainloop()\n"
   ]
  }
 ],
 "metadata": {
  "kernelspec": {
   "display_name": "base",
   "language": "python",
   "name": "python3"
  },
  "language_info": {
   "codemirror_mode": {
    "name": "ipython",
    "version": 3
   },
   "file_extension": ".py",
   "mimetype": "text/x-python",
   "name": "python",
   "nbconvert_exporter": "python",
   "pygments_lexer": "ipython3",
   "version": "3.12.3"
  }
 },
 "nbformat": 4,
 "nbformat_minor": 2
}
