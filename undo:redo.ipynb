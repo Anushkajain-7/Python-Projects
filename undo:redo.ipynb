{
 "cells": [
  {
   "cell_type": "markdown",
   "metadata": {},
   "source": [
    "# UNDO/REDO code using stack by python"
   ]
  },
  {
   "cell_type": "markdown",
   "metadata": {},
   "source": [
    "# How code works \n",
    "\n",
    "* Perform Action: Type perform [action] to add an action to the undo stack (e.g., perform type A will push the action type A to the stack).\n",
    "* Undo: Type undo to pop the last action from the undo stack and push it to the redo stack.\n",
    "* Redo: Type redo to pop an action from the redo stack and push it back to the undo stack.\n",
    "* Exit: Type exit to exit the program."
   ]
  },
  {
   "cell_type": "code",
   "execution_count": 1,
   "metadata": {},
   "outputs": [
    {
     "name": "stdout",
     "output_type": "stream",
     "text": [
      "Welcome to the Undo/Redo stack manager!\n",
      "Commands: 'perform [action]', 'undo', 'redo', 'exit'\n",
      "Performed action: '['HI']'\n",
      "Current undo stack: [\"['HI']\"]\n",
      "Current redo stack: []\n",
      "\n",
      "Performed action: '['This is Anushka']'\n",
      "Current undo stack: [\"['HI']\", \"['This is Anushka']\"]\n",
      "Current redo stack: []\n",
      "\n",
      "Undid action: '['This is Anushka']'\n",
      "Current undo stack: [\"['HI']\"]\n",
      "Current redo stack: [\"['This is Anushka']\"]\n",
      "\n",
      "Redid action: '['This is Anushka']'\n",
      "Current undo stack: [\"['HI']\", \"['This is Anushka']\"]\n",
      "Current redo stack: []\n",
      "\n",
      "Exiting the Undo/Redo manager.\n"
     ]
    }
   ],
   "source": [
    "# first create a class\n",
    "# Initialize two empty stacks\n",
    "\n",
    "class UndoRedoStack:\n",
    "    def __init__(self):\n",
    "        self.undo_stack = []\n",
    "        self.redo_stack = []\n",
    "\n",
    "# Perform an action:\n",
    "\n",
    "    def perform_action(self, action):\n",
    "        self.undo_stack.append(action)\n",
    "        self.redo_stack.clear()\n",
    "        print(f\"Performed action: '{action}'\")\n",
    "\n",
    "# defining undo action\n",
    "\n",
    "    def undo(self):\n",
    "        if self.undo_stack:\n",
    "            action = self.undo_stack.pop()\n",
    "            self.redo_stack.append(action)\n",
    "            print(f\"Undid action: '{action}'\")\n",
    "        else:\n",
    "            print(\"Nothing to undo!\")\n",
    "\n",
    "# defining redo action\n",
    "\n",
    "    def redo(self):\n",
    "        if self.redo_stack:\n",
    "            action = self.redo_stack.pop()\n",
    "            self.undo_stack.append(action)\n",
    "            print(f\"Redid action: '{action}'\")\n",
    "        else:\n",
    "            print(\"Nothing to redo!\")\n",
    "\n",
    "# defining display state\n",
    "\n",
    "    def display_state(self):\n",
    "        print(f\"Current undo stack: {self.undo_stack}\")\n",
    "        print(f\"Current redo stack: {self.redo_stack}\")\n",
    "        print()\n",
    "\n",
    "# Main function to interact with the UndoRedoStack\n",
    "def main():\n",
    "    ur_stack = UndoRedoStack()\n",
    "\n",
    "    print(\"Welcome to the Undo/Redo stack manager!\")\n",
    "    print(\"Commands: 'perform [action]', 'undo', 'redo', 'exit'\")\n",
    "    \n",
    "    while True:\n",
    "        user_input = input(\"Enter command: \").strip()\n",
    "\n",
    "        if user_input.startswith(\"perform\"):\n",
    "            # Extract the action to perform\n",
    "            action = user_input[len(\"perform \"):].strip()\n",
    "            if action:\n",
    "                ur_stack.perform_action(action)\n",
    "            else:\n",
    "                print(\"No action provided.\")\n",
    "        \n",
    "        elif user_input == \"undo\":\n",
    "            ur_stack.undo()\n",
    "\n",
    "        elif user_input == \"redo\":\n",
    "            ur_stack.redo()\n",
    "\n",
    "        elif user_input == \"exit\":\n",
    "            print(\"Exiting the Undo/Redo manager.\")\n",
    "            break\n",
    "\n",
    "        else:\n",
    "            print(\"Invalid command. Try 'perform [action]', 'undo', 'redo', or 'exit'.\")\n",
    "\n",
    "        # Display the current state of undo and redo stacks after each operation\n",
    "        ur_stack.display_state()\n",
    "\n",
    "if __name__ == \"__main__\":\n",
    "    main()"
   ]
  }
 ],
 "metadata": {
  "kernelspec": {
   "display_name": "base",
   "language": "python",
   "name": "python3"
  },
  "language_info": {
   "codemirror_mode": {
    "name": "ipython",
    "version": 3
   },
   "file_extension": ".py",
   "mimetype": "text/x-python",
   "name": "python",
   "nbconvert_exporter": "python",
   "pygments_lexer": "ipython3",
   "version": "3.12.3"
  }
 },
 "nbformat": 4,
 "nbformat_minor": 2
}
